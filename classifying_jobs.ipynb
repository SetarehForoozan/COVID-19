{
 "cells": [
  {
   "cell_type": "code",
   "execution_count": 1,
   "metadata": {
    "collapsed": true
   },
   "outputs": [],
   "source": [
    "import numpy as np\n",
    "import pandas as pd\n",
    "import matplotlib.pyplot as plt\n",
    "\n",
    "#from google.colab import files\n",
    "import io, requests, zipfile\n",
    "from sklearn.cluster import KMeans"
   ]
  },
  {
   "cell_type": "markdown",
   "metadata": {},
   "source": [
    "Read Parimah's data with a little preparation (for instance I removed '$' and ',' for more convenience)"
   ]
  },
  {
   "cell_type": "code",
   "execution_count": 2,
   "metadata": {},
   "outputs": [
    {
     "data": {
      "text/html": [
       "<div>\n",
       "<style>\n",
       "    .dataframe thead tr:only-child th {\n",
       "        text-align: right;\n",
       "    }\n",
       "\n",
       "    .dataframe thead th {\n",
       "        text-align: left;\n",
       "    }\n",
       "\n",
       "    .dataframe tbody tr th {\n",
       "        vertical-align: top;\n",
       "    }\n",
       "</style>\n",
       "<table border=\"1\" class=\"dataframe\">\n",
       "  <thead>\n",
       "    <tr style=\"text-align: right;\">\n",
       "      <th></th>\n",
       "      <th>occ</th>\n",
       "      <th>risk</th>\n",
       "      <th>income</th>\n",
       "      <th>number</th>\n",
       "      <th>medical staff or not</th>\n",
       "    </tr>\n",
       "  </thead>\n",
       "  <tbody>\n",
       "    <tr>\n",
       "      <th>0</th>\n",
       "      <td>Waiters and Waitresses</td>\n",
       "      <td>43.6</td>\n",
       "      <td>21780</td>\n",
       "      <td>2582410</td>\n",
       "      <td>0</td>\n",
       "    </tr>\n",
       "    <tr>\n",
       "      <th>1</th>\n",
       "      <td>Amusement and Recreation Attendants</td>\n",
       "      <td>56.0</td>\n",
       "      <td>22260</td>\n",
       "      <td>319890</td>\n",
       "      <td>0</td>\n",
       "    </tr>\n",
       "    <tr>\n",
       "      <th>2</th>\n",
       "      <td>Ushers, Lobby Attendants, and Ticket Takers</td>\n",
       "      <td>51.1</td>\n",
       "      <td>22260</td>\n",
       "      <td>133970</td>\n",
       "      <td>0</td>\n",
       "    </tr>\n",
       "    <tr>\n",
       "      <th>3</th>\n",
       "      <td>Dining Room and Cafeteria Attendants and Barte...</td>\n",
       "      <td>45.5</td>\n",
       "      <td>22270</td>\n",
       "      <td>455700</td>\n",
       "      <td>0</td>\n",
       "    </tr>\n",
       "    <tr>\n",
       "      <th>4</th>\n",
       "      <td>Counter Attendants, Cafeteria, Food Concession...</td>\n",
       "      <td>39.5</td>\n",
       "      <td>22330</td>\n",
       "      <td>473860</td>\n",
       "      <td>0</td>\n",
       "    </tr>\n",
       "  </tbody>\n",
       "</table>\n",
       "</div>"
      ],
      "text/plain": [
       "                                                 occ  risk  income   number  \\\n",
       "0                             Waiters and Waitresses  43.6   21780  2582410   \n",
       "1                Amusement and Recreation Attendants  56.0   22260   319890   \n",
       "2        Ushers, Lobby Attendants, and Ticket Takers  51.1   22260   133970   \n",
       "3  Dining Room and Cafeteria Attendants and Barte...  45.5   22270   455700   \n",
       "4  Counter Attendants, Cafeteria, Food Concession...  39.5   22330   473860   \n",
       "\n",
       "   medical staff or not  \n",
       "0                     0  \n",
       "1                     0  \n",
       "2                     0  \n",
       "3                     0  \n",
       "4                     0  "
      ]
     },
     "execution_count": 2,
     "metadata": {},
     "output_type": "execute_result"
    }
   ],
   "source": [
    "data = pd.read_csv('/Users/apple/Desktop/COVID-19-economical-effects/risk_income_data.csv')\n",
    "n_s = 100\n",
    "data.head()"
   ]
  },
  {
   "cell_type": "code",
   "execution_count": 3,
   "metadata": {},
   "outputs": [
    {
     "name": "stdout",
     "output_type": "stream",
     "text": [
      "(100, 5)\n"
     ]
    }
   ],
   "source": [
    "print(data.shape)"
   ]
  },
  {
   "cell_type": "code",
   "execution_count": 4,
   "metadata": {},
   "outputs": [
    {
     "name": "stdout",
     "output_type": "stream",
     "text": [
      "(68, 3)\n",
      "(32, 3)\n"
     ]
    }
   ],
   "source": [
    "#keep the features (risk, income and number) in X_p and scale them with it's corresponding maximum value\n",
    "X = data.drop('occ', axis=1)\n",
    "X_max = X.max(axis = 0)\n",
    "X = X / X_max\n",
    "\n",
    "medic_list = X[X['medical staff or not'] == 1]\n",
    "X = X[X['medical staff or not'] != 1]\n",
    "\n",
    "medic_list = medic_list.drop('medical staff or not', axis=1)\n",
    "X = X.drop('medical staff or not', axis=1)\n",
    "\n",
    "print(X.shape)\n",
    "print(medic_list.shape)"
   ]
  },
  {
   "cell_type": "markdown",
   "metadata": {},
   "source": [
    "In the following we intend to:\n",
    "1-classify jobs to get a sense of what we are working with. We have so far 3 dimensions. We can classify jobs only base on [risk, income] or we can classify them in a 3d space where the features are [risk, income, number]\n",
    "2-for each 2 pairs of features, plot them in different colors.\n",
    "\n",
    "We use Unsupervised clustering KMeans method. MUST INDICATE THE NUMBER OF CLUSTERS."
   ]
  },
  {
   "cell_type": "code",
   "execution_count": 5,
   "metadata": {
    "collapsed": true
   },
   "outputs": [],
   "source": [
    "#Unsupervised clustering, ONE features (risk), THREE clusters\n",
    "fig, (ax1, ax2, ax3) = plt.subplots(3,1, figsize = (10,15))\n",
    "axs = [ax1,ax2,ax3]\n",
    "X_p = X.drop('income', axis = 1)\n",
    "X_p = X_p.drop('number', axis = 1)\n",
    "\n",
    "N_clusters = 3\n",
    "N_space = 2\n",
    "\n",
    "y_pred = KMeans(n_clusters=3, random_state=1).fit_predict(X_p)\n",
    "features = ['risk', 'income', 'number']\n",
    "features_r = ['income', 'number', 'risk']\n",
    "\n",
    "for i in range(3):\n",
    "    feat_1 = features[i]\n",
    "    feat_2 = features_r[i]\n",
    "    axs[i].scatter(X[feat_1],  X[feat_2], c=y_pred)\n",
    "    axs[i].set_xlabel(feat_1)\n",
    "    axs[i].set_ylabel(feat_2)\n",
    "    if i == 0:\n",
    "        axs[i].set_title('job classification in {}d space. # clusters = {}'.format(N_space, N_clusters))\n"
   ]
  },
  {
   "cell_type": "markdown",
   "metadata": {},
   "source": [
    "Based on the last plot, one can ignore the \"green\" cluster (AKA medical staff). This group's characteristics: [High income, High risk, Low number]"
   ]
  },
  {
   "cell_type": "code",
   "execution_count": 6,
   "metadata": {
    "collapsed": true
   },
   "outputs": [],
   "source": [
    "X['risk_groups'] = y_pred\n",
    "X['risk_groups'].head()\n",
    "\n",
    "medic_list['risk_groups'] = len(medic_list) * [3]"
   ]
  },
  {
   "cell_type": "code",
   "execution_count": 7,
   "metadata": {},
   "outputs": [
    {
     "data": {
      "text/plain": [
       "(100, 4)"
      ]
     },
     "execution_count": 7,
     "metadata": {},
     "output_type": "execute_result"
    }
   ],
   "source": [
    "X_final = [X,medic_list]\n",
    "X_final = pd.concat(X_final)\n",
    "X_final.shape\n"
   ]
  },
  {
   "cell_type": "code",
   "execution_count": 8,
   "metadata": {
    "collapsed": true
   },
   "outputs": [],
   "source": [
    "# determining the average risk and income in each group\n",
    "\n",
    "mean_risk = [0,0,0,0]\n",
    "mean_income = [0,0,0,0]\n",
    "pop_per_gr = [0,0,0,0]\n",
    "mean_risk2 = [0,0,0,0]\n",
    "mean_income2 = [0,0,0,0]\n",
    "pop_per_gr2 = [0,0,0,0]\n",
    "\n",
    "for i in range(len(X_final)):\n",
    "    if X_final['risk_groups'][i] == 0:\n",
    "        mean_risk[0] += X_final['risk'][i] * X_final['number'][i] \n",
    "        mean_income[0] += X_final['income'][i] * X_final['number'][i]  \n",
    "        pop_per_gr[0] += X_final['number'][i]       \n",
    "        mean_risk2[0] += (X_final['risk'][i] ) **2 * X_final['number'][i]\n",
    "        mean_income2[0] += (X_final['income'][i] ) ** 2 * X_final['number'][i]\n",
    "        \n",
    "    if X_final['risk_groups'][i] == 1:\n",
    "        mean_risk[1] += X_final['risk'][i] * X_final['number'][i]\n",
    "        mean_income[1] += X_final['income'][i] * X_final['number'][i]    \n",
    "        pop_per_gr[1] += X_final['number'][i]\n",
    "        mean_risk2[1] += (X_final['risk'][i]) **2  * X_final['number'][i]\n",
    "        mean_income2[1] += (X_final['income'][i] ) ** 2 * X_final['number'][i]\n",
    "        \n",
    "    if X_final['risk_groups'][i] == 2:\n",
    "        mean_risk[2] += X_final['risk'][i] * X_final['number'][i]\n",
    "        mean_income[2] += X_final['income'][i] * X_final['number'][i]\n",
    "        pop_per_gr[2] += X_final['number'][i]\n",
    "        mean_risk2[2] += (X_final['risk'][i] ) **2 * X_final['number'][i]\n",
    "        mean_income2[2] += (X_final['income'][i] ) ** 2* X_final['number'][i]\n",
    "        \n",
    "    if X_final['risk_groups'][i] == 3:\n",
    "        mean_risk[3] += X_final['risk'][i] * X_final['number'][i]\n",
    "        mean_income[3] += X_final['income'][i] * X_final['number'][i]\n",
    "        pop_per_gr[3] += X_final['number'][i]\n",
    "        \n",
    "        mean_risk2[3] += (X_final['risk'][i] ) **2 * X_final['number'][i]\n",
    "        mean_income2[3] += (X_final['income'][i] ) ** 2* X_final['number'][i]\n",
    "        \n",
    "        \n",
    "mean_risk = np.array(mean_risk) / np.array(pop_per_gr)\n",
    "mean_income = np.array(mean_income) /np.array(pop_per_gr)\n",
    "\n",
    "std_risk = np.sqrt(abs(mean_risk**2 - mean_risk2 / np.array(pop_per_gr)))\n",
    "std_income = np.sqrt(abs(mean_income**2 -  mean_income2 / np.array(pop_per_gr)))\n",
    "\n",
    "group_labels = ['high risk', 'medium risk', 'low risk', 'medical staff']"
   ]
  },
  {
   "cell_type": "code",
   "execution_count": 9,
   "metadata": {},
   "outputs": [
    {
     "data": {
      "text/plain": [
       "['high risk', 'medium risk', 'low risk', 'medical staff']"
      ]
     },
     "execution_count": 9,
     "metadata": {},
     "output_type": "execute_result"
    }
   ],
   "source": [
    "group_labels\n"
   ]
  },
  {
   "cell_type": "code",
   "execution_count": 10,
   "metadata": {},
   "outputs": [
    {
     "data": {
      "text/html": [
       "<div>\n",
       "<style>\n",
       "    .dataframe thead tr:only-child th {\n",
       "        text-align: right;\n",
       "    }\n",
       "\n",
       "    .dataframe thead th {\n",
       "        text-align: left;\n",
       "    }\n",
       "\n",
       "    .dataframe tbody tr th {\n",
       "        vertical-align: top;\n",
       "    }\n",
       "</style>\n",
       "<table border=\"1\" class=\"dataframe\">\n",
       "  <thead>\n",
       "    <tr style=\"text-align: right;\">\n",
       "      <th></th>\n",
       "      <th>risk</th>\n",
       "      <th>sd risk</th>\n",
       "      <th>average income</th>\n",
       "      <th>sd income</th>\n",
       "      <th>population</th>\n",
       "      <th>group label</th>\n",
       "    </tr>\n",
       "  </thead>\n",
       "  <tbody>\n",
       "    <tr>\n",
       "      <th>0</th>\n",
       "      <td>0.41</td>\n",
       "      <td>0.04</td>\n",
       "      <td>0.16</td>\n",
       "      <td>0.09</td>\n",
       "      <td>5.94</td>\n",
       "      <td>high risk</td>\n",
       "    </tr>\n",
       "    <tr>\n",
       "      <th>1</th>\n",
       "      <td>0.20</td>\n",
       "      <td>0.05</td>\n",
       "      <td>0.32</td>\n",
       "      <td>0.18</td>\n",
       "      <td>1.95</td>\n",
       "      <td>medium risk</td>\n",
       "    </tr>\n",
       "    <tr>\n",
       "      <th>2</th>\n",
       "      <td>0.61</td>\n",
       "      <td>0.05</td>\n",
       "      <td>0.17</td>\n",
       "      <td>0.06</td>\n",
       "      <td>2.39</td>\n",
       "      <td>low risk</td>\n",
       "    </tr>\n",
       "    <tr>\n",
       "      <th>3</th>\n",
       "      <td>0.78</td>\n",
       "      <td>0.11</td>\n",
       "      <td>0.30</td>\n",
       "      <td>0.16</td>\n",
       "      <td>2.28</td>\n",
       "      <td>medical staff</td>\n",
       "    </tr>\n",
       "  </tbody>\n",
       "</table>\n",
       "</div>"
      ],
      "text/plain": [
       "   risk  sd risk  average income  sd income  population    group label\n",
       "0  0.41     0.04            0.16       0.09        5.94      high risk\n",
       "1  0.20     0.05            0.32       0.18        1.95    medium risk\n",
       "2  0.61     0.05            0.17       0.06        2.39       low risk\n",
       "3  0.78     0.11            0.30       0.16        2.28  medical staff"
      ]
     },
     "execution_count": 10,
     "metadata": {},
     "output_type": "execute_result"
    }
   ],
   "source": [
    "d = pd.DataFrame()\n",
    "\n",
    "d['risk'] = np.round(mean_risk, 2)\n",
    "d['sd risk'] = np.round(std_risk, 2)\n",
    "\n",
    "d['average income'] = np.round(mean_income, 2)\n",
    "d['sd income'] = np.round(std_income, 2)\n",
    "\n",
    "d['population'] = np.round(pop_per_gr,2)\n",
    "\n",
    "d['group label'] = group_labels\n",
    "\n",
    "d"
   ]
  },
  {
   "cell_type": "code",
   "execution_count": 15,
   "metadata": {},
   "outputs": [
    {
     "data": {
      "image/png": "[encoded data removed]",
      "text/plain": [
       "<matplotlib.figure.Figure at 0x7feba4735a90>"
      ]
     },
     "metadata": {},
     "output_type": "display_data"
    }
   ],
   "source": [
    "# plotting income vs risk for each grous and their average risks and incomes\n",
    "%matplotlib inline\n",
    "\n",
    "fig, ax = plt.subplots(figsize = (10,6))\n",
    "ax.set_xlabel('risk')\n",
    "ax.set_ylabel('income')\n",
    "ax.set_title('job clustering')\n",
    "\n",
    "colors = ['m','green','darkorange','blue']\n",
    "for i in range(4):\n",
    "    ax.scatter(mean_risk[i], mean_income[i], color = colors[i] ,marker = 'D', label = group_labels[i])\n",
    "ax.legend()\n",
    "\n",
    "ax.scatter(X_final['risk'][:68],  X_final['income'][:68], c=y_pred)\n",
    "ax.scatter(X_final['risk'][68:],  X_final['income'][68:])\n",
    "\n",
    "for i in range(4):\n",
    "    ax.scatter(mean_risk[i], mean_income[i], color = colors[i] ,marker = 'D')\n"
   ]
  },
  {
   "cell_type": "code",
   "execution_count": 14,
   "metadata": {},
   "outputs": [
    {
     "data": {
      "text/plain": [
       "[]"
      ]
     },
     "execution_count": 14,
     "metadata": {},
     "output_type": "execute_result"
    },
    {
     "data": {
      "image/png": "[encoded data removed]",
      "text/plain": [
       "<matplotlib.figure.Figure at 0x7feb9ff62c88>"
      ]
     },
     "metadata": {},
     "output_type": "display_data"
    }
   ],
   "source": []
  },
  {
   "cell_type": "code",
   "execution_count": null,
   "metadata": {
    "collapsed": true
   },
   "outputs": [],
   "source": []
  }
 ],
 "metadata": {
  "kernelspec": {
   "display_name": "Python 3",
   "language": "python",
   "name": "python3"
  },
  "language_info": {
   "codemirror_mode": {
    "name": "ipython",
    "version": 3
   },
   "file_extension": ".py",
   "mimetype": "text/x-python",
   "name": "python",
   "nbconvert_exporter": "python",
   "pygments_lexer": "ipython3",
   "version": "3.6.3"
  }
 },
 "nbformat": 4,
 "nbformat_minor": 2
}
