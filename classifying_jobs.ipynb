{
 "cells": [
  {
   "cell_type": "code",
   "execution_count": 1,
   "metadata": {
    "collapsed": true
   },
   "outputs": [],
   "source": [
    "import numpy as np\n",
    "import pandas as pd\n",
    "import matplotlib.pyplot as plt\n",
    "\n",
    "#from google.colab import files\n",
    "import io, requests, zipfile\n",
    "from sklearn.cluster import KMeans"
   ]
  },
  {
   "cell_type": "markdown",
   "metadata": {},
   "source": [
    "Read Parimah's data with a little preparation (for instance I removed '$' and ',' for more convenience)"
   ]
  },
  {
   "cell_type": "code",
   "execution_count": 2,
   "metadata": {
    "collapsed": false
   },
   "outputs": [
    {
     "ename": "OSError",
     "evalue": "File b'/Users/apple/Desktop/COVID-19-economical-effects/risk_income_data.csv' does not exist",
     "output_type": "error",
     "traceback": [
      "\u001b[0;31m---------------------------------------------------------------------------\u001b[0m",
      "\u001b[0;31mOSError\u001b[0m                                   Traceback (most recent call last)",
      "\u001b[0;32m<ipython-input-2-6785ff530fe2>\u001b[0m in \u001b[0;36m<module>\u001b[0;34m()\u001b[0m\n\u001b[0;32m----> 1\u001b[0;31m \u001b[0mdata\u001b[0m \u001b[0;34m=\u001b[0m \u001b[0mpd\u001b[0m\u001b[0;34m.\u001b[0m\u001b[0mread_csv\u001b[0m\u001b[0;34m(\u001b[0m\u001b[0;34m'/Users/apple/Desktop/COVID-19-economical-effects/risk_income_data.csv'\u001b[0m\u001b[0;34m)\u001b[0m\u001b[0;34m\u001b[0m\u001b[0m\n\u001b[0m\u001b[1;32m      2\u001b[0m \u001b[0mn_s\u001b[0m \u001b[0;34m=\u001b[0m \u001b[0;36m100\u001b[0m\u001b[0;34m\u001b[0m\u001b[0m\n\u001b[1;32m      3\u001b[0m \u001b[0mdata\u001b[0m\u001b[0;34m.\u001b[0m\u001b[0mhead\u001b[0m\u001b[0;34m(\u001b[0m\u001b[0;34m)\u001b[0m\u001b[0;34m\u001b[0m\u001b[0m\n",
      "\u001b[0;32m//anaconda/lib/python3.5/site-packages/pandas/io/parsers.py\u001b[0m in \u001b[0;36mparser_f\u001b[0;34m(filepath_or_buffer, sep, dialect, compression, doublequote, escapechar, quotechar, quoting, skipinitialspace, lineterminator, header, index_col, names, prefix, skiprows, skipfooter, skip_footer, na_values, true_values, false_values, delimiter, converters, dtype, usecols, engine, delim_whitespace, as_recarray, na_filter, compact_ints, use_unsigned, low_memory, buffer_lines, warn_bad_lines, error_bad_lines, keep_default_na, thousands, comment, decimal, parse_dates, keep_date_col, dayfirst, date_parser, memory_map, float_precision, nrows, iterator, chunksize, verbose, encoding, squeeze, mangle_dupe_cols, tupleize_cols, infer_datetime_format, skip_blank_lines)\u001b[0m\n\u001b[1;32m    496\u001b[0m                     skip_blank_lines=skip_blank_lines)\n\u001b[1;32m    497\u001b[0m \u001b[0;34m\u001b[0m\u001b[0m\n\u001b[0;32m--> 498\u001b[0;31m         \u001b[0;32mreturn\u001b[0m \u001b[0m_read\u001b[0m\u001b[0;34m(\u001b[0m\u001b[0mfilepath_or_buffer\u001b[0m\u001b[0;34m,\u001b[0m \u001b[0mkwds\u001b[0m\u001b[0;34m)\u001b[0m\u001b[0;34m\u001b[0m\u001b[0m\n\u001b[0m\u001b[1;32m    499\u001b[0m \u001b[0;34m\u001b[0m\u001b[0m\n\u001b[1;32m    500\u001b[0m     \u001b[0mparser_f\u001b[0m\u001b[0;34m.\u001b[0m\u001b[0m__name__\u001b[0m \u001b[0;34m=\u001b[0m \u001b[0mname\u001b[0m\u001b[0;34m\u001b[0m\u001b[0m\n",
      "\u001b[0;32m//anaconda/lib/python3.5/site-packages/pandas/io/parsers.py\u001b[0m in \u001b[0;36m_read\u001b[0;34m(filepath_or_buffer, kwds)\u001b[0m\n\u001b[1;32m    273\u001b[0m \u001b[0;34m\u001b[0m\u001b[0m\n\u001b[1;32m    274\u001b[0m     \u001b[0;31m# Create the parser.\u001b[0m\u001b[0;34m\u001b[0m\u001b[0;34m\u001b[0m\u001b[0m\n\u001b[0;32m--> 275\u001b[0;31m     \u001b[0mparser\u001b[0m \u001b[0;34m=\u001b[0m \u001b[0mTextFileReader\u001b[0m\u001b[0;34m(\u001b[0m\u001b[0mfilepath_or_buffer\u001b[0m\u001b[0;34m,\u001b[0m \u001b[0;34m**\u001b[0m\u001b[0mkwds\u001b[0m\u001b[0;34m)\u001b[0m\u001b[0;34m\u001b[0m\u001b[0m\n\u001b[0m\u001b[1;32m    276\u001b[0m \u001b[0;34m\u001b[0m\u001b[0m\n\u001b[1;32m    277\u001b[0m     \u001b[0;32mif\u001b[0m \u001b[0;34m(\u001b[0m\u001b[0mnrows\u001b[0m \u001b[0;32mis\u001b[0m \u001b[0;32mnot\u001b[0m \u001b[0;32mNone\u001b[0m\u001b[0;34m)\u001b[0m \u001b[0;32mand\u001b[0m \u001b[0;34m(\u001b[0m\u001b[0mchunksize\u001b[0m \u001b[0;32mis\u001b[0m \u001b[0;32mnot\u001b[0m \u001b[0;32mNone\u001b[0m\u001b[0;34m)\u001b[0m\u001b[0;34m:\u001b[0m\u001b[0;34m\u001b[0m\u001b[0m\n",
      "\u001b[0;32m//anaconda/lib/python3.5/site-packages/pandas/io/parsers.py\u001b[0m in \u001b[0;36m__init__\u001b[0;34m(self, f, engine, **kwds)\u001b[0m\n\u001b[1;32m    588\u001b[0m             \u001b[0mself\u001b[0m\u001b[0;34m.\u001b[0m\u001b[0moptions\u001b[0m\u001b[0;34m[\u001b[0m\u001b[0;34m'has_index_names'\u001b[0m\u001b[0;34m]\u001b[0m \u001b[0;34m=\u001b[0m \u001b[0mkwds\u001b[0m\u001b[0;34m[\u001b[0m\u001b[0;34m'has_index_names'\u001b[0m\u001b[0;34m]\u001b[0m\u001b[0;34m\u001b[0m\u001b[0m\n\u001b[1;32m    589\u001b[0m \u001b[0;34m\u001b[0m\u001b[0m\n\u001b[0;32m--> 590\u001b[0;31m         \u001b[0mself\u001b[0m\u001b[0;34m.\u001b[0m\u001b[0m_make_engine\u001b[0m\u001b[0;34m(\u001b[0m\u001b[0mself\u001b[0m\u001b[0;34m.\u001b[0m\u001b[0mengine\u001b[0m\u001b[0;34m)\u001b[0m\u001b[0;34m\u001b[0m\u001b[0m\n\u001b[0m\u001b[1;32m    591\u001b[0m \u001b[0;34m\u001b[0m\u001b[0m\n\u001b[1;32m    592\u001b[0m     \u001b[0;32mdef\u001b[0m \u001b[0m_get_options_with_defaults\u001b[0m\u001b[0;34m(\u001b[0m\u001b[0mself\u001b[0m\u001b[0;34m,\u001b[0m \u001b[0mengine\u001b[0m\u001b[0;34m)\u001b[0m\u001b[0;34m:\u001b[0m\u001b[0;34m\u001b[0m\u001b[0m\n",
      "\u001b[0;32m//anaconda/lib/python3.5/site-packages/pandas/io/parsers.py\u001b[0m in \u001b[0;36m_make_engine\u001b[0;34m(self, engine)\u001b[0m\n\u001b[1;32m    729\u001b[0m     \u001b[0;32mdef\u001b[0m \u001b[0m_make_engine\u001b[0m\u001b[0;34m(\u001b[0m\u001b[0mself\u001b[0m\u001b[0;34m,\u001b[0m \u001b[0mengine\u001b[0m\u001b[0;34m=\u001b[0m\u001b[0;34m'c'\u001b[0m\u001b[0;34m)\u001b[0m\u001b[0;34m:\u001b[0m\u001b[0;34m\u001b[0m\u001b[0m\n\u001b[1;32m    730\u001b[0m         \u001b[0;32mif\u001b[0m \u001b[0mengine\u001b[0m \u001b[0;34m==\u001b[0m \u001b[0;34m'c'\u001b[0m\u001b[0;34m:\u001b[0m\u001b[0;34m\u001b[0m\u001b[0m\n\u001b[0;32m--> 731\u001b[0;31m             \u001b[0mself\u001b[0m\u001b[0;34m.\u001b[0m\u001b[0m_engine\u001b[0m \u001b[0;34m=\u001b[0m \u001b[0mCParserWrapper\u001b[0m\u001b[0;34m(\u001b[0m\u001b[0mself\u001b[0m\u001b[0;34m.\u001b[0m\u001b[0mf\u001b[0m\u001b[0;34m,\u001b[0m \u001b[0;34m**\u001b[0m\u001b[0mself\u001b[0m\u001b[0;34m.\u001b[0m\u001b[0moptions\u001b[0m\u001b[0;34m)\u001b[0m\u001b[0;34m\u001b[0m\u001b[0m\n\u001b[0m\u001b[1;32m    732\u001b[0m         \u001b[0;32melse\u001b[0m\u001b[0;34m:\u001b[0m\u001b[0;34m\u001b[0m\u001b[0m\n\u001b[1;32m    733\u001b[0m             \u001b[0;32mif\u001b[0m \u001b[0mengine\u001b[0m \u001b[0;34m==\u001b[0m \u001b[0;34m'python'\u001b[0m\u001b[0;34m:\u001b[0m\u001b[0;34m\u001b[0m\u001b[0m\n",
      "\u001b[0;32m//anaconda/lib/python3.5/site-packages/pandas/io/parsers.py\u001b[0m in \u001b[0;36m__init__\u001b[0;34m(self, src, **kwds)\u001b[0m\n\u001b[1;32m   1101\u001b[0m         \u001b[0mkwds\u001b[0m\u001b[0;34m[\u001b[0m\u001b[0;34m'allow_leading_cols'\u001b[0m\u001b[0;34m]\u001b[0m \u001b[0;34m=\u001b[0m \u001b[0mself\u001b[0m\u001b[0;34m.\u001b[0m\u001b[0mindex_col\u001b[0m \u001b[0;32mis\u001b[0m \u001b[0;32mnot\u001b[0m \u001b[0;32mFalse\u001b[0m\u001b[0;34m\u001b[0m\u001b[0m\n\u001b[1;32m   1102\u001b[0m \u001b[0;34m\u001b[0m\u001b[0m\n\u001b[0;32m-> 1103\u001b[0;31m         \u001b[0mself\u001b[0m\u001b[0;34m.\u001b[0m\u001b[0m_reader\u001b[0m \u001b[0;34m=\u001b[0m \u001b[0m_parser\u001b[0m\u001b[0;34m.\u001b[0m\u001b[0mTextReader\u001b[0m\u001b[0;34m(\u001b[0m\u001b[0msrc\u001b[0m\u001b[0;34m,\u001b[0m \u001b[0;34m**\u001b[0m\u001b[0mkwds\u001b[0m\u001b[0;34m)\u001b[0m\u001b[0;34m\u001b[0m\u001b[0m\n\u001b[0m\u001b[1;32m   1104\u001b[0m \u001b[0;34m\u001b[0m\u001b[0m\n\u001b[1;32m   1105\u001b[0m         \u001b[0;31m# XXX\u001b[0m\u001b[0;34m\u001b[0m\u001b[0;34m\u001b[0m\u001b[0m\n",
      "\u001b[0;32mpandas/parser.pyx\u001b[0m in \u001b[0;36mpandas.parser.TextReader.__cinit__ (pandas/parser.c:3246)\u001b[0;34m()\u001b[0m\n",
      "\u001b[0;32mpandas/parser.pyx\u001b[0m in \u001b[0;36mpandas.parser.TextReader._setup_parser_source (pandas/parser.c:6111)\u001b[0;34m()\u001b[0m\n",
      "\u001b[0;31mOSError\u001b[0m: File b'/Users/apple/Desktop/COVID-19-economical-effects/risk_income_data.csv' does not exist"
     ]
    }
   ],
   "source": [
    "data = pd.read_csv('/Users/apple/Desktop/COVID-19-economical-effects/risk_income_data.csv')\n",
    "n_s = 100\n",
    "data.head()"
   ]
  },
  {
   "cell_type": "code",
   "execution_count": null,
   "metadata": {
    "collapsed": false
   },
   "outputs": [],
   "source": [
    "print(data.shape)"
   ]
  },
  {
   "cell_type": "code",
   "execution_count": null,
   "metadata": {
    "collapsed": false
   },
   "outputs": [],
   "source": [
    "#keep the features (risk, income and number) in X_p and scale them with it's corresponding maximum value\n",
    "X = data.drop('occ', axis=1)\n",
    "X_max = X.max(axis = 0)\n",
    "X = X / X_max\n",
    "\n",
    "medic_list = X[X['medical staff or not'] == 1]\n",
    "X = X[X['medical staff or not'] != 1]\n",
    "\n",
    "medic_list = medic_list.drop('medical staff or not', axis=1)\n",
    "X = X.drop('medical staff or not', axis=1)\n",
    "\n",
    "print(X.shape)\n",
    "print(medic_list.shape)"
   ]
  },
  {
   "cell_type": "markdown",
   "metadata": {},
   "source": [
    "In the following we intend to:\n",
    "1-classify jobs to get a sense of what we are working with. We have so far 3 dimensions. We can classify jobs only base on [risk, income] or we can classify them in a 3d space where the features are [risk, income, number]\n",
    "2-for each 2 pairs of features, plot them in different colors.\n",
    "\n",
    "We use Unsupervised clustering KMeans method. MUST INDICATE THE NUMBER OF CLUSTERS."
   ]
  },
  {
   "cell_type": "code",
   "execution_count": null,
   "metadata": {
    "collapsed": false
   },
   "outputs": [],
   "source": [
    "#Unsupervised clustering, THREE features (risk, number and income), THREE clusters.\n",
    "\n",
    "fig, (ax1, ax2, ax3) = plt.subplots(3,1, figsize = (10,15))\n",
    "axs = [ax1,ax2,ax3]\n",
    "N_clusters = 3\n",
    "N_space = 3\n",
    "\n",
    "y_pred = KMeans(n_clusters=3, random_state=0).fit_predict(X)\n",
    "\n",
    "features = ['risk', 'income', 'number']\n",
    "features_r = ['income', 'number', 'risk']\n",
    "\n",
    "\n",
    "for i in range(3):\n",
    "    feat_1 = features[i]\n",
    "    feat_2 = features_r[i]\n",
    "    axs[i].scatter(X[feat_1],  X[feat_2], c=y_pred)\n",
    "    axs[i].set_xlabel(feat_1)\n",
    "    axs[i].set_ylabel(feat_2)\n",
    "    if i == 0:\n",
    "        axs[i].set_title('job classification in {}d space. # clusters = {}'.format(N_space, N_clusters))\n"
   ]
  },
  {
   "cell_type": "code",
   "execution_count": null,
   "metadata": {
    "collapsed": false
   },
   "outputs": [],
   "source": [
    "#Unsupervised clustering, TWO features (risk and income), THREE clusters\n",
    "fig, (ax1, ax2, ax3) = plt.subplots(3,1, figsize = (10,15))\n",
    "axs = [ax1,ax2,ax3]\n",
    "X_p = X.drop('number', axis = 1)\n",
    "\n",
    "N_clusters = 3\n",
    "N_space = 2\n",
    "\n",
    "y_pred = KMeans(n_clusters=3, random_state=0).fit_predict(X_p)\n",
    "features = ['risk', 'income', 'number']\n",
    "features_r = ['income', 'number', 'risk']\n",
    "\n",
    "for i in range(3):\n",
    "    feat_1 = features[i]\n",
    "    feat_2 = features_r[i]\n",
    "    axs[i].scatter(X_p[feat_1],  X_p[feat_2], c=y_pred)\n",
    "    axs[i].set_xlabel(feat_1)\n",
    "    axs[i].set_ylabel(feat_2)\n",
    "    if i == 0:\n",
    "        axs[i].set_title('job classification in {}d space. # clusters = {}'.format(N_space, N_clusters))\n"
   ]
  },
  {
   "cell_type": "code",
   "execution_count": null,
   "metadata": {
    "collapsed": false
   },
   "outputs": [],
   "source": [
    "#Unsupervised clustering, ONE features (risk), THREE clusters\n",
    "fig, (ax1, ax2, ax3) = plt.subplots(3,1, figsize = (10,15))\n",
    "axs = [ax1,ax2,ax3]\n",
    "X_p = X.drop('number', axis = 1)\n",
    "X_p = X.drop('income', axis = 1)\n",
    "\n",
    "N_clusters = 3\n",
    "N_space = 2\n",
    "\n",
    "y_pred = KMeans(n_clusters=3, random_state=1).fit_predict(X_p)\n",
    "features = ['risk', 'income', 'number']\n",
    "features_r = ['income', 'number', 'risk']\n",
    "\n",
    "for i in range(3):\n",
    "    feat_1 = features[i]\n",
    "    feat_2 = features_r[i]\n",
    "    axs[i].scatter(X[feat_1],  X[feat_2], c=y_pred)\n",
    "    axs[i].set_xlabel(feat_1)\n",
    "    axs[i].set_ylabel(feat_2)\n",
    "    if i == 0:\n",
    "        axs[i].set_title('job classification in {}d space. # clusters = {}'.format(N_space, N_clusters))\n"
   ]
  },
  {
   "cell_type": "markdown",
   "metadata": {},
   "source": [
    "Based on the last plot, one can ignore the \"green\" cluster (AKA medical staff). This group's characteristics: [High income, High risk, Low number]"
   ]
  },
  {
   "cell_type": "code",
   "execution_count": null,
   "metadata": {
    "collapsed": false
   },
   "outputs": [],
   "source": [
    "X['risk_groups'] = y_pred\n",
    "X['risk_groups'].head()\n",
    "\n",
    "medic_list['risk_groups'] = len(medic_list) * [3]"
   ]
  },
  {
   "cell_type": "code",
   "execution_count": null,
   "metadata": {
    "collapsed": false
   },
   "outputs": [],
   "source": [
    "X_final = [X,medic_list]\n",
    "X_final = pd.concat(X_final)\n",
    "X_final.shape\n"
   ]
  },
  {
   "cell_type": "code",
   "execution_count": null,
   "metadata": {
    "collapsed": false
   },
   "outputs": [],
   "source": [
    "# determining the average risk and income in each group\n",
    "\n",
    "mean_risk = [0,0,0,0]\n",
    "mean_income = [0,0,0,0]\n",
    "pop_per_gr = [0,0,0,0]\n",
    "\n",
    "for i in range(len(X_final)):\n",
    "    if X_final['risk_groups'][i] == 0:\n",
    "        mean_risk[0] += X_final['risk'][i] * X_final['number'][i]        # if you want the averages over jobs instead of population\n",
    "        mean_income[0] += X_final['income'][i] * X_final['number'][i]    # , delete the last term\n",
    "        pop_per_gr[0] += X_final['number'][i]                     #1 and set this to 1\n",
    "    if X_final['risk_groups'][i] == 1:\n",
    "        mean_risk[1] += X_final['risk'][i] * X_final['number'][i]\n",
    "        mean_income[1] += X_final['income'][i] * X_final['number'][i]    \n",
    "        pop_per_gr[1] += X_final['number'][i]\n",
    "    if X_final['risk_groups'][i] == 2:\n",
    "        mean_risk[2] += X_final['risk'][i] * X_final['number'][i]\n",
    "        mean_income[2] += X_final['income'][i] * X_final['number'][i]\n",
    "        pop_per_gr[2] += X_final['number'][i]\n",
    "    if X_final['risk_groups'][i] == 3:\n",
    "        mean_risk[3] += X_final['risk'][i] * X_final['number'][i]\n",
    "        mean_income[3] += X_final['income'][i] * X_final['number'][i]\n",
    "        pop_per_gr[3] += X_final['number'][i]\n",
    "        \n",
    "mean_risk = np.array(mean_risk) / np.array(pop_per_gr)\n",
    "mean_income = np.array(mean_income) / np.array(pop_per_gr)\n",
    "\n",
    "group_labels = ['high risk', 'medium risk', 'low risk', 'medical staff']"
   ]
  },
  {
   "cell_type": "code",
   "execution_count": null,
   "metadata": {
    "collapsed": false
   },
   "outputs": [],
   "source": [
    "group_labels\n"
   ]
  },
  {
   "cell_type": "code",
   "execution_count": null,
   "metadata": {
    "collapsed": false
   },
   "outputs": [],
   "source": [
    "d = pd.DataFrame()\n",
    "d['group label'] = group_labels\n",
    "d['risk'] = np.round(mean_risk, 2)\n",
    "d['average income'] = np.round(mean_income, 2)\n",
    "d['population'] = np.round(pop_per_gr,2)\n",
    "d"
   ]
  },
  {
   "cell_type": "code",
   "execution_count": null,
   "metadata": {
    "collapsed": false
   },
   "outputs": [],
   "source": [
    "# plotting income vs risk for each grous and their average risks and incomes\n",
    "\n",
    "fig, ax = plt.subplots(figsize = (10,6))\n",
    "ax.set_xlabel('risk')\n",
    "ax.set_ylabel('income')\n",
    "ax.set_title('job clustering')\n",
    "\n",
    "colors = ['m','green','darkorange','blue']\n",
    "for i in range(4):\n",
    "    ax.scatter(mean_risk[i], mean_income[i], color = colors[i] ,marker = 'D', label = group_labels[i])\n",
    "ax.legend()\n",
    "\n",
    "ax.scatter(X_final['risk'][:68],  X_final['income'][:68], c=y_pred)\n",
    "ax.scatter(X_final['risk'][68:],  X_final['income'][68:])\n",
    "\n",
    "for i in range(4):\n",
    "    ax.scatter(mean_risk[i], mean_income[i], color = colors[i] ,marker = 'D')"
   ]
  },
  {
   "cell_type": "code",
   "execution_count": null,
   "metadata": {
    "collapsed": true
   },
   "outputs": [],
   "source": []
  }
 ],
 "metadata": {
  "kernelspec": {
   "display_name": "Python 3",
   "language": "python",
   "name": "python3"
  },
  "language_info": {
   "codemirror_mode": {
    "name": "ipython",
    "version": 3
   },
   "file_extension": ".py",
   "mimetype": "text/x-python",
   "name": "python",
   "nbconvert_exporter": "python",
   "pygments_lexer": "ipython3",
   "version": "3.5.4"
  }
 },
 "nbformat": 4,
 "nbformat_minor": 2
}
